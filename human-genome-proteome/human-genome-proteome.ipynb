{
 "cells": [
  {
   "cell_type": "code",
   "execution_count": null,
   "id": "fea5dbf7-2d95-4f57-9138-66340fa1c2db",
   "metadata": {},
   "outputs": [],
   "source": [
    "# create a network of physical binary protein-protein interactions from\n",
    "# the PSICQUIC portal and teh CCSB Interactome database\n"
   ]
  },
  {
   "cell_type": "code",
   "execution_count": null,
   "id": "32a43cbf-8255-4256-811c-38fa0dc6a0fc",
   "metadata": {},
   "outputs": [],
   "source": [
    "# should be 60669 direct interactions between 12110 proteins"
   ]
  },
  {
   "cell_type": "code",
   "execution_count": 1,
   "id": "deb5ef56-d685-4901-a8e7-f697e6d0c0db",
   "metadata": {},
   "outputs": [],
   "source": [
    "# construct a coexpression network form RNA-seq data\n",
    "# from the human protein atlas\n",
    "# spearman correlations of expression were computed between all genes based\n",
    "# on FPKM values in 27 tissues and 44 cell lines\n"
   ]
  },
  {
   "cell_type": "code",
   "execution_count": 2,
   "id": "b0dbd6f7-cdce-479e-b6b2-9a6e4d5e8f36",
   "metadata": {},
   "outputs": [],
   "source": [
    "# correlation selected above 0.7, 1107547 interactions, 9212 genes"
   ]
  },
  {
   "cell_type": "code",
   "execution_count": 3,
   "id": "68742012-a91e-4e32-ab96-b0639f3a9516",
   "metadata": {},
   "outputs": [],
   "source": [
    "# pathway network constructed from Biocarta, Spike, Kegg\n",
    "# PID, and Reactome, using the R package graphite"
   ]
  },
  {
   "cell_type": "code",
   "execution_count": 4,
   "id": "ecbe718f-c29b-410d-8353-9a4bff818b07",
   "metadata": {},
   "outputs": [],
   "source": [
    "# 166761 interactions between 8839 genes"
   ]
  },
  {
   "cell_type": "code",
   "execution_count": 5,
   "id": "65ee9e8b-aaa7-40cd-b067-7a95c7d61769",
   "metadata": {},
   "outputs": [],
   "source": [
    "# network of complexes constructed from CORUM database\n",
    "# using the matrix model"
   ]
  },
  {
   "cell_type": "code",
   "execution_count": 6,
   "id": "a72dd35a-51f9-4aee-9e7f-d66a95ab2727",
   "metadata": {},
   "outputs": [],
   "source": [
    "# contains 36,762 interactions between 2528 genes"
   ]
  },
  {
   "cell_type": "code",
   "execution_count": null,
   "id": "25f0456c-5ac1-46e5-9360-db7fdc841e15",
   "metadata": {},
   "outputs": [],
   "source": []
  }
 ],
 "metadata": {
  "kernelspec": {
   "display_name": "Python 3 (ipykernel)",
   "language": "python",
   "name": "python3"
  },
  "language_info": {
   "codemirror_mode": {
    "name": "ipython",
    "version": 3
   },
   "file_extension": ".py",
   "mimetype": "text/x-python",
   "name": "python",
   "nbconvert_exporter": "python",
   "pygments_lexer": "ipython3",
   "version": "3.12.2"
  }
 },
 "nbformat": 4,
 "nbformat_minor": 5
}
